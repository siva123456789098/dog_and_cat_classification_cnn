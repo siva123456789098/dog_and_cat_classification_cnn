{
  "cells": [
    {
      "cell_type": "markdown",
      "metadata": {
        "id": "view-in-github",
        "colab_type": "text"
      },
      "source": [
        "<a href=\"https://colab.research.google.com/github/siva123456789098/dog_and_cat_classification_cnn/blob/main/Dog_and_Cat_classification1208.ipynb\" target=\"_parent\"><img src=\"https://colab.research.google.com/assets/colab-badge.svg\" alt=\"Open In Colab\"/></a>"
      ]
    },
    {
      "cell_type": "code",
      "execution_count": null,
      "metadata": {
        "colab": {
          "base_uri": "https://localhost:8080/"
        },
        "id": "Jh_9RCcKOYpl",
        "outputId": "a2a2f810-590b-4b43-9a94-9bc0ebb5bb04"
      },
      "outputs": [
        {
          "name": "stdout",
          "output_type": "stream",
          "text": [
            "Cloning into 'GV_DeepLearning'...\n",
            "remote: Enumerating objects: 1607, done.\u001b[K\n",
            "remote: Counting objects: 100% (18/18), done.\u001b[K\n",
            "remote: Compressing objects: 100% (12/12), done.\u001b[K\n",
            "remote: Total 1607 (delta 4), reused 15 (delta 2), pack-reused 1589\u001b[K\n",
            "Receiving objects: 100% (1607/1607), 29.99 MiB | 24.26 MiB/s, done.\n",
            "Resolving deltas: 100% (92/92), done.\n"
          ]
        }
      ],
      "source": [
        "\n",
        "  !git clone \"https://github.com/vadivukar/GV_DeepLearning/\""
      ]
    },
    {
      "cell_type": "code",
      "execution_count": null,
      "metadata": {
        "colab": {
          "base_uri": "https://localhost:8080/"
        },
        "id": "mZ6LMp8YObCU",
        "outputId": "1b63160a-347c-43b7-c1fa-017940e18482"
      },
      "outputs": [
        {
          "name": "stdout",
          "output_type": "stream",
          "text": [
            "Cloning into 'dog-cat-full-dataset'...\n",
            "remote: Enumerating objects: 25027, done.\u001b[K\n",
            "remote: Total 25027 (delta 0), reused 0 (delta 0), pack-reused 25027\u001b[K\n",
            "Receiving objects: 100% (25027/25027), 541.62 MiB | 32.88 MiB/s, done.\n",
            "Resolving deltas: 100% (5/5), done.\n",
            "Updating files: 100% (25001/25001), done.\n"
          ]
        }
      ],
      "source": [
        "!git clone https://github.com/laxmimerit/dog-cat-full-dataset"
      ]
    },
    {
      "cell_type": "code",
      "execution_count": null,
      "metadata": {
        "id": "JP0GJUSVOhzs"
      },
      "outputs": [],
      "source": [
        "import tensorflow as tf\n",
        "from keras.preprocessing.image import ImageDataGenerator"
      ]
    },
    {
      "cell_type": "code",
      "execution_count": null,
      "metadata": {
        "id": "E112spnDOyXa"
      },
      "outputs": [],
      "source": [
        "\n",
        "import pandas as pd"
      ]
    },
    {
      "cell_type": "code",
      "execution_count": null,
      "metadata": {
        "colab": {
          "base_uri": "https://localhost:8080/"
        },
        "id": "nf_wVbbsO3i4",
        "outputId": "713a2fae-04ed-48a0-c154-653b0056800c"
      },
      "outputs": [
        {
          "name": "stdout",
          "output_type": "stream",
          "text": [
            "Found 20000 images belonging to 2 classes.\n"
          ]
        }
      ],
      "source": [
        "train_datagen = ImageDataGenerator(rescale = 1./255,\n",
        "                                   shear_range = 0.2,\n",
        "                                   zoom_range = 0.2,\n",
        "                                   horizontal_flip = True)\n",
        "\n",
        "training_set = train_datagen.flow_from_directory('/content/dog-cat-full-dataset/data/train',\n",
        "                                                 target_size = (64, 64),\n",
        "                                                 batch_size = 32,\n",
        "                                                 class_mode = 'binary')\n"
      ]
    },
    {
      "cell_type": "code",
      "execution_count": null,
      "metadata": {
        "colab": {
          "base_uri": "https://localhost:8080/"
        },
        "id": "TwEOtvTNO-Gg",
        "outputId": "deaee8d9-8215-40fd-8fdc-3c6982c64597"
      },
      "outputs": [
        {
          "name": "stdout",
          "output_type": "stream",
          "text": [
            "Found 5000 images belonging to 2 classes.\n"
          ]
        }
      ],
      "source": [
        "test_datagen = ImageDataGenerator(rescale = 1./255)\n",
        "test_set = test_datagen.flow_from_directory('/content/dog-cat-full-dataset/data/test',\n",
        "                                            target_size = (64, 64),\n",
        "                                            batch_size = 32,\n",
        "                                            class_mode = 'binary')"
      ]
    },
    {
      "cell_type": "code",
      "execution_count": null,
      "metadata": {
        "id": "1etDqsgmPCUa"
      },
      "outputs": [],
      "source": [
        "cnn = tf.keras.models.Sequential()"
      ]
    },
    {
      "cell_type": "code",
      "execution_count": null,
      "metadata": {
        "id": "JUhGTBXhPFy9"
      },
      "outputs": [],
      "source": [
        "cnn.add(tf.keras.layers.Conv2D(filters=32, kernel_size=3, activation='relu', \n",
        "                               input_shape=[64, 64, 3]))\n",
        "     "
      ]
    },
    {
      "cell_type": "code",
      "execution_count": null,
      "metadata": {
        "id": "pg_TSxVgPJFn"
      },
      "outputs": [],
      "source": [
        "cnn.add(tf.keras.layers.MaxPool2D(pool_size=2, strides=2))"
      ]
    },
    {
      "cell_type": "code",
      "execution_count": null,
      "metadata": {
        "id": "w2H4u8JOPNXh"
      },
      "outputs": [],
      "source": [
        "cnn.add(tf.keras.layers.Conv2D(filters=32, kernel_size=3, activation='relu'))\n",
        "cnn.add(tf.keras.layers.MaxPool2D(pool_size=2, strides=2))\n",
        "\n",
        "cnn.add(tf.keras.layers.Flatten())\n",
        "\n",
        "cnn.add(tf.keras.layers.Dense(units=128, activation='relu'))\n",
        "cnn.add(tf.keras.layers.Dense(units=1, activation='sigmoid'))\n",
        "     "
      ]
    },
    {
      "cell_type": "code",
      "execution_count": null,
      "metadata": {
        "id": "O7dagoD4PQ2b"
      },
      "outputs": [],
      "source": [
        "cnn.compile(optimizer = 'adam', loss = 'binary_crossentropy', metrics = ['accuracy'])"
      ]
    },
    {
      "cell_type": "code",
      "execution_count": null,
      "metadata": {
        "colab": {
          "background_save": true,
          "base_uri": "https://localhost:8080/"
        },
        "id": "2-I0LwF-PTvn",
        "outputId": "10b64081-4e9f-464f-8513-2c5dcc9053bd"
      },
      "outputs": [
        {
          "name": "stdout",
          "output_type": "stream",
          "text": [
            "Epoch 1/30\n",
            "625/625 [==============================] - 195s 308ms/step - loss: 0.6495 - accuracy: 0.6222 - val_loss: 0.5842 - val_accuracy: 0.6894\n",
            "Epoch 2/30\n",
            "625/625 [==============================] - 189s 303ms/step - loss: 0.5504 - accuracy: 0.7188 - val_loss: 0.4887 - val_accuracy: 0.7652\n",
            "Epoch 3/30\n",
            "625/625 [==============================] - 185s 296ms/step - loss: 0.5020 - accuracy: 0.7550 - val_loss: 0.4729 - val_accuracy: 0.7724\n",
            "Epoch 4/30\n",
            "625/625 [==============================] - 186s 297ms/step - loss: 0.4694 - accuracy: 0.7773 - val_loss: 0.4660 - val_accuracy: 0.7754\n",
            "Epoch 5/30\n",
            "625/625 [==============================] - 187s 299ms/step - loss: 0.4445 - accuracy: 0.7903 - val_loss: 0.5001 - val_accuracy: 0.7568\n",
            "Epoch 6/30\n",
            "625/625 [==============================] - 183s 293ms/step - loss: 0.4269 - accuracy: 0.8011 - val_loss: 0.4236 - val_accuracy: 0.8074\n",
            "Epoch 7/30\n",
            "625/625 [==============================] - 185s 296ms/step - loss: 0.4102 - accuracy: 0.8110 - val_loss: 0.4446 - val_accuracy: 0.7958\n",
            "Epoch 8/30\n",
            "625/625 [==============================] - 185s 296ms/step - loss: 0.3962 - accuracy: 0.8187 - val_loss: 0.4129 - val_accuracy: 0.8108\n",
            "Epoch 9/30\n",
            "625/625 [==============================] - 186s 297ms/step - loss: 0.3782 - accuracy: 0.8271 - val_loss: 0.4126 - val_accuracy: 0.8194\n",
            "Epoch 10/30\n",
            "625/625 [==============================] - 185s 295ms/step - loss: 0.3588 - accuracy: 0.8440 - val_loss: 0.3897 - val_accuracy: 0.8326\n",
            "Epoch 11/30\n",
            "625/625 [==============================] - 183s 293ms/step - loss: 0.3480 - accuracy: 0.8461 - val_loss: 0.3909 - val_accuracy: 0.8248\n",
            "Epoch 12/30\n",
            "625/625 [==============================] - 186s 297ms/step - loss: 0.3329 - accuracy: 0.8530 - val_loss: 0.4051 - val_accuracy: 0.8228\n",
            "Epoch 13/30\n",
            "625/625 [==============================] - 184s 294ms/step - loss: 0.3154 - accuracy: 0.8597 - val_loss: 0.4693 - val_accuracy: 0.7978\n",
            "Epoch 14/30\n",
            "625/625 [==============================] - 184s 294ms/step - loss: 0.3031 - accuracy: 0.8673 - val_loss: 0.4523 - val_accuracy: 0.8178\n",
            "Epoch 15/30\n",
            "625/625 [==============================] - 186s 297ms/step - loss: 0.2924 - accuracy: 0.8726 - val_loss: 0.3831 - val_accuracy: 0.8368\n",
            "Epoch 16/30\n",
            "625/625 [==============================] - 184s 294ms/step - loss: 0.2843 - accuracy: 0.8790 - val_loss: 0.3964 - val_accuracy: 0.8298\n",
            "Epoch 17/30\n",
            "625/625 [==============================] - 184s 295ms/step - loss: 0.2643 - accuracy: 0.8875 - val_loss: 0.4268 - val_accuracy: 0.8292\n",
            "Epoch 18/30\n",
            "625/625 [==============================] - 185s 296ms/step - loss: 0.2559 - accuracy: 0.8924 - val_loss: 0.4299 - val_accuracy: 0.8290\n",
            "Epoch 19/30\n",
            "625/625 [==============================] - 184s 294ms/step - loss: 0.2441 - accuracy: 0.8957 - val_loss: 0.4918 - val_accuracy: 0.8026\n",
            "Epoch 20/30\n",
            "625/625 [==============================] - 186s 297ms/step - loss: 0.2276 - accuracy: 0.9054 - val_loss: 0.4406 - val_accuracy: 0.8300\n",
            "Epoch 21/30\n",
            "625/625 [==============================] - 185s 295ms/step - loss: 0.2243 - accuracy: 0.9050 - val_loss: 0.4489 - val_accuracy: 0.8290\n",
            "Epoch 22/30\n",
            "625/625 [==============================] - 186s 298ms/step - loss: 0.2133 - accuracy: 0.9151 - val_loss: 0.4502 - val_accuracy: 0.8430\n",
            "Epoch 23/30\n",
            "625/625 [==============================] - 186s 297ms/step - loss: 0.2117 - accuracy: 0.9132 - val_loss: 0.4582 - val_accuracy: 0.8282\n",
            "Epoch 24/30\n",
            "625/625 [==============================] - 184s 294ms/step - loss: 0.1996 - accuracy: 0.9189 - val_loss: 0.5076 - val_accuracy: 0.8196\n",
            "Epoch 25/30\n",
            "625/625 [==============================] - 185s 296ms/step - loss: 0.1914 - accuracy: 0.9225 - val_loss: 0.5347 - val_accuracy: 0.8196\n",
            "Epoch 26/30\n",
            "625/625 [==============================] - 184s 294ms/step - loss: 0.1852 - accuracy: 0.9268 - val_loss: 0.5589 - val_accuracy: 0.8102\n",
            "Epoch 27/30\n",
            "625/625 [==============================] - 185s 296ms/step - loss: 0.1692 - accuracy: 0.9328 - val_loss: 0.4800 - val_accuracy: 0.8340\n",
            "Epoch 28/30\n",
            "625/625 [==============================] - 185s 296ms/step - loss: 0.1703 - accuracy: 0.9337 - val_loss: 0.5482 - val_accuracy: 0.8160\n",
            "Epoch 29/30\n",
            "625/625 [==============================] - 181s 290ms/step - loss: 0.1639 - accuracy: 0.9344 - val_loss: 0.5421 - val_accuracy: 0.8240\n",
            "Epoch 30/30\n",
            "625/625 [==============================] - 180s 288ms/step - loss: 0.1589 - accuracy: 0.9385 - val_loss: 0.6073 - val_accuracy: 0.8162\n"
          ]
        },
        {
          "data": {
            "text/plain": [
              "<keras.callbacks.History at 0x7f69a5f99300>"
            ]
          },
          "execution_count": 12,
          "metadata": {},
          "output_type": "execute_result"
        }
      ],
      "source": [
        "\n",
        "cnn.fit(x = training_set, validation_data = test_set, epochs = 30)"
      ]
    },
    {
      "cell_type": "code",
      "execution_count": null,
      "metadata": {
        "id": "mx3BvK76PW1B"
      },
      "outputs": [],
      "source": []
    }
  ],
  "metadata": {
    "colab": {
      "provenance": [],
      "authorship_tag": "ABX9TyOIG1Sz7bP6RRrp/vGeGrGV",
      "include_colab_link": true
    },
    "kernelspec": {
      "display_name": "Python 3",
      "name": "python3"
    },
    "language_info": {
      "name": "python"
    }
  },
  "nbformat": 4,
  "nbformat_minor": 0
}